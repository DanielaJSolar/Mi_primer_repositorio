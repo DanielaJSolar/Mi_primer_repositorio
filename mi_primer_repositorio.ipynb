{
  "nbformat": 4,
  "nbformat_minor": 0,
  "metadata": {
    "colab": {
      "provenance": [],
      "authorship_tag": "ABX9TyPoaU7dpiz+j+p7eCEhKxwv",
      "include_colab_link": true
    },
    "kernelspec": {
      "name": "python3",
      "display_name": "Python 3"
    },
    "language_info": {
      "name": "python"
    }
  },
  "cells": [
    {
      "cell_type": "markdown",
      "metadata": {
        "id": "view-in-github",
        "colab_type": "text"
      },
      "source": [
        "<a href=\"https://colab.research.google.com/github/DanielaJSolar/Mi_primer_repositorio/blob/main/mi_primer_repositorio.ipynb\" target=\"_parent\"><img src=\"https://colab.research.google.com/assets/colab-badge.svg\" alt=\"Open In Colab\"/></a>"
      ]
    },
    {
      "cell_type": "code",
      "execution_count": null,
      "metadata": {
        "colab": {
          "base_uri": "https://localhost:8080/"
        },
        "id": "sp4oMBk1lLBT",
        "outputId": "692a4597-d471-49ce-9a89-445d8196aed9"
      },
      "outputs": [
        {
          "output_type": "stream",
          "name": "stdout",
          "text": [
            "hola Daniela\n",
            "15\n",
            "8\n"
          ]
        }
      ],
      "source": [
        "name=\"Daniela\"\n",
        "print(\"hola\", name)\n",
        "a=3\n",
        "b=5\n",
        "print(a*b)\n",
        "print(a+b)\n"
      ]
    }
  ]
}